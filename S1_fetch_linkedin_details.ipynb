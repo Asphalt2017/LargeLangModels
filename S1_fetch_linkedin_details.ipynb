{
 "cells": [
  {
   "cell_type": "code",
   "execution_count": 1,
   "metadata": {},
   "outputs": [],
   "source": [
    "import os\n",
    "from langchain.prompts.prompt import PromptTemplate\n",
    "from langchain_openai import ChatOpenAI\n",
    "from langchain.chains import LLMChain \n",
    "from utils.linkedin import scrape_linkedin_profile"
   ]
  },
  {
   "cell_type": "code",
   "execution_count": 3,
   "metadata": {},
   "outputs": [
    {
     "name": "stdout",
     "output_type": "stream",
     "text": [
      "Hello, Welcome to LangChain!\n",
      "Scraping LinkedIn profile: https://www.linkedin.com/in/roudra-saha/\n",
      "content='Roudra Saha is a MLOps Researcher at aixprocess GmbH in Germany with a strong background in computer vision and a passion for creating collaborative workspaces between humans and machines.' response_metadata={'token_usage': {'completion_tokens': 39, 'prompt_tokens': 1884, 'total_tokens': 1923}, 'model_name': 'gpt-3.5-turbo', 'system_fingerprint': None, 'finish_reason': 'stop', 'logprobs': None} id='run-508b14fc-41a9-4bac-912f-a91599439de5-0'\n"
     ]
    }
   ],
   "source": [
    "\n",
    "\n",
    "print(\"Hello, Welcome to LangChain!\")\n",
    "\n",
    "summary_template = \"\"\"\n",
    "given the LinkedIn information {information} about a person, write summary of the person's profile in 2 lines.\"\"\"\n",
    "\n",
    "# Create a prompt template\n",
    "prompt = PromptTemplate(input_variables=[\"information\"], template=summary_template)\n",
    "\n",
    "# Create a chain\n",
    "llm = ChatOpenAI(temperature=0, model=\"gpt-3.5-turbo\")\n",
    "\n",
    "# Create a chain\n",
    "chain = prompt | llm\n",
    "\n",
    "linkedin_data = scrape_linkedin_profile(\n",
    "    url=\"https://www.linkedin.com/in/roudra-saha/\", mock=True)\n",
    "\n",
    "res = chain.invoke(input={\"information\": linkedin_data})\n",
    "\n",
    "print(res)"
   ]
  },
  {
   "cell_type": "code",
   "execution_count": null,
   "metadata": {},
   "outputs": [],
   "source": []
  }
 ],
 "metadata": {
  "kernelspec": {
   "display_name": "llm12",
   "language": "python",
   "name": "python3"
  },
  "language_info": {
   "codemirror_mode": {
    "name": "ipython",
    "version": 3
   },
   "file_extension": ".py",
   "mimetype": "text/x-python",
   "name": "python",
   "nbconvert_exporter": "python",
   "pygments_lexer": "ipython3",
   "version": "3.12.3"
  }
 },
 "nbformat": 4,
 "nbformat_minor": 2
}
