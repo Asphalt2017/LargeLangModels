{
 "cells": [
  {
   "cell_type": "code",
   "execution_count": 1,
   "metadata": {},
   "outputs": [],
   "source": [
    "import os\n",
    "from langchain.prompts.prompt import PromptTemplate\n",
    "from langchain_openai import ChatOpenAI\n",
    "from langchain.chains import LLMChain \n",
    "from utils.linkedin import scrape_linkedin_profile\n",
    "from agents.linkedin_lookup import lookup"
   ]
  },
  {
   "cell_type": "code",
   "execution_count": 12,
   "metadata": {},
   "outputs": [],
   "source": [
    "\n",
    "def ice_breaker_with(name : str, *, mock: bool = True) -> str:\n",
    "    \"\"\"Generate an ice breaker prompt for a given name.\"\"\"\n",
    "\n",
    "\n",
    "    if mock:\n",
    "        print(\"Running in mock mode. No actual scraping will be done.\")\n",
    "        linkdin_url = \"https://www.linkedin.com/in/roudra-saha/\"\n",
    "    else:\n",
    "        linkdin_url = lookup(name)\n",
    "        print(f\"Scraping LinkedIn profile from {linkdin_url}\")\n",
    "\n",
    "\n",
    "    summary_template = \"\"\"\n",
    "    given the LinkedIn information {information} about a person, write summary of the person's profile in 2 lines.\"\"\"\n",
    "\n",
    "    # Create a prompt template\n",
    "    prompt = PromptTemplate(input_variables=[\"information\"], template=summary_template)\n",
    "\n",
    "    # Create a chain\n",
    "    llm = ChatOpenAI(temperature=0, model=\"gpt-3.5-turbo\")\n",
    "\n",
    "    # Create a chain\n",
    "    chain = prompt | llm\n",
    "\n",
    "\n",
    "    linkedin_data = scrape_linkedin_profile(\n",
    "        url=linkdin_url, mock=mock)\n",
    "\n",
    "    res = chain.invoke(input={\"information\": linkedin_data})\n",
    "\n",
    "    print(res)"
   ]
  },
  {
   "cell_type": "code",
   "execution_count": 14,
   "metadata": {},
   "outputs": [
    {
     "name": "stdout",
     "output_type": "stream",
     "text": [
      "\n",
      "\n",
      "\u001b[1m> Entering new AgentExecutor chain...\u001b[0m\n",
      "\u001b[32;1m\u001b[1;3mI should use the linkedin_lookup tool to find Rohit Sharma's LinkedIn profile.\n",
      "Action: linkedin_lookup\n",
      "Action Input: Rohit Sharma Machine Learning engineer\u001b[0m\u001b[36;1m\u001b[1;3mhttps://uk.linkedin.com/in/rohit-sharma97\u001b[0m\u001b[32;1m\u001b[1;3mI have found the LinkedIn profile for Rohit Sharma.\n",
      "Final Answer: https://uk.linkedin.com/in/rohit-sharma97\u001b[0m\n",
      "\n",
      "\u001b[1m> Finished chain.\u001b[0m\n",
      "Scraping LinkedIn profile from https://uk.linkedin.com/in/rohit-sharma97\n",
      "Scraping LinkedIn profile: https://uk.linkedin.com/in/rohit-sharma97\n",
      "content=\"Rohit Sharma is a passionate Software Engineer specializing in Machine Learning and Computer Vision, with a strong background in Python, Java, and Web Development. He has a Bachelor's degree in Computer Software Engineering and is currently pursuing a Master's in Artificial Intelligence at Loughborough University in the UK.\" response_metadata={'token_usage': {'completion_tokens': 59, 'prompt_tokens': 3420, 'total_tokens': 3479}, 'model_name': 'gpt-3.5-turbo', 'system_fingerprint': None, 'finish_reason': 'stop', 'logprobs': None} id='run-e69ef75a-c535-44f7-baaf-08df82fc837e-0'\n"
     ]
    }
   ],
   "source": [
    "ice_breaker_with(\"Rohit Sharma Machine Learning engineer\", mock=False)"
   ]
  },
  {
   "cell_type": "code",
   "execution_count": null,
   "metadata": {},
   "outputs": [],
   "source": []
  }
 ],
 "metadata": {
  "kernelspec": {
   "display_name": "llm12",
   "language": "python",
   "name": "python3"
  },
  "language_info": {
   "codemirror_mode": {
    "name": "ipython",
    "version": 3
   },
   "file_extension": ".py",
   "mimetype": "text/x-python",
   "name": "python",
   "nbconvert_exporter": "python",
   "pygments_lexer": "ipython3",
   "version": "3.12.3"
  }
 },
 "nbformat": 4,
 "nbformat_minor": 2
}
